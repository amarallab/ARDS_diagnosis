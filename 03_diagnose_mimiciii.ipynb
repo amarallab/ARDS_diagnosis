{
 "cells": [
  {
   "cell_type": "code",
   "execution_count": null,
   "id": "2569717a",
   "metadata": {},
   "outputs": [],
   "source": [
    "# Generic imports\n",
    "import pandas as pd\n",
    "import numpy as np\n",
    "import seaborn as sns\n",
    "import matplotlib.pyplot as plt\n",
    "from pathlib import Path\n",
    "from sklearn.metrics import (\n",
    "    confusion_matrix,\n",
    "    cohen_kappa_score\n",
    ")"
   ]
  },
  {
   "cell_type": "code",
   "execution_count": null,
   "id": "1f6deafe",
   "metadata": {},
   "outputs": [],
   "source": [
    "# Custom imports\n",
    "from src.diagnosis_tools import (\n",
    "    mark_hypoxemic_episodes,\n",
    "    mark_abnormal_cxr,\n",
    "    mark_cxr_within_48h_of_post_vent_hypoxemia,\n",
    "    mark_note_within_7d,\n",
    "    mark_notes_with_ml,\n",
    "    text_match_risk_factors,\n",
    "    diagnose_or_exclude_encounters,\n",
    "    flag_echos\n",
    ")\n",
    "import src.plots as plots"
   ]
  },
  {
   "cell_type": "code",
   "execution_count": null,
   "id": "0387444f",
   "metadata": {},
   "outputs": [],
   "source": [
    "# set plotting params\n",
    "import matplotlib as mpl\n",
    "mpl.rcParams.update(mpl.rcParamsDefault)\n",
    "plt.style.reload_library()\n",
    "rcparams = plots.stdrcparams1()\n",
    "mpl.rcParams.update(rcparams)"
   ]
  },
  {
   "cell_type": "code",
   "execution_count": null,
   "id": "c0a7801c",
   "metadata": {},
   "outputs": [],
   "source": [
    "# Custom display of tables for easier inspection\n",
    "pd.set_option('display.max_colwidth', None)\n",
    "pd.set_option('display.max_columns', None)\n",
    "pd.set_option('display.max_rows', None)\n",
    "pd.set_option('display.width', None)"
   ]
  },
  {
   "attachments": {},
   "cell_type": "markdown",
   "id": "a9500f0d",
   "metadata": {},
   "source": [
    "While criteria to identify ARDS includes more than these, from the perspective of files these will be the important files/criteria:  \n",
    "-PF ratios (ARDS if PF<=300 mmHg and PEEP>=5 cm H20 anytime during encounter)  \n",
    "-Chest X-ray reports (ARDS if bilateral pulmonary opacities identified within 48 h window of PF ratio <= 300).  \n",
    "-First and second criteria happening within 7 days of a known ARDS risk factor (-1 to 7 days of latest timestamp of above combo). Search attending physician notes for this.  \n",
    "-If no risk factor found, seek language ruling out cardiac failure in attending physician notes.  \n",
    "-If no cardiac failure language found, use objective criteria form echocardiography reports to rule out cardiac failure, otherwise, ARDS is adjudicated (window of entire hospitalization)."
   ]
  },
  {
   "attachments": {},
   "cell_type": "markdown",
   "id": "b3753e8a",
   "metadata": {},
   "source": [
    "## Read in the tables"
   ]
  },
  {
   "cell_type": "code",
   "execution_count": null,
   "id": "7f04b8a9",
   "metadata": {},
   "outputs": [],
   "source": [
    "basedir = Path(\"..\")\n",
    "training_location = basedir / 'Analysis_Data' / 'train_ML'\n",
    "path = basedir / 'Analysis_Data' / 'MIMIC_III' / 'labeled_subset'\n",
    "raw_path = basedir / 'Raw_Data' / 'MIMIC_III' / 'labeled_subset'"
   ]
  },
  {
   "cell_type": "code",
   "execution_count": null,
   "id": "4b5106dc",
   "metadata": {},
   "outputs": [],
   "source": [
    "pf = pd.read_csv(path / \"pf_ratio.csv\")\n",
    "pf['pf_ratio_timestamp'] = pd.to_datetime(pf['pf_ratio_timestamp'])\n",
    "pf['vent_start_timestamp'] = pd.to_datetime(pf['vent_start_timestamp'])\n",
    "\n",
    "try:\n",
    "    peep = pd.read_csv(path / \"peep.csv\")\n",
    "    peep['peep_timestamp'] = pd.to_datetime(peep['peep_timestamp'])\n",
    "    \n",
    "except FileNotFoundError:\n",
    "    peep = None\n",
    "    print(\"This dataset doesn't seem to have peep separately specified.\")\n",
    "\n",
    "cxr = pd.read_csv(path / \"cxr.csv\")\n",
    "cxr['cxr_timestamp'] = pd.to_datetime(cxr['cxr_timestamp'])\n",
    "\n",
    "notes = pd.read_csv(path / \"attending_notes.csv\")\n",
    "notes['notes_timestamp'] = pd.to_datetime(notes['notes_timestamp'])\n",
    "\n",
    "echo = pd.read_csv(path / \"echo_reports.csv\")\n",
    "echo['echo_timestamp'] = pd.to_datetime(echo['echo_timestamp'])\n",
    "\n",
    "bnp = pd.read_csv(path / \"bnp.csv\")\n",
    "bnp['bnp_timestamp'] = pd.to_datetime(bnp['bnp_timestamp'])\n",
    "\n",
    "final_numbers = pd.read_excel(raw_path / \"ARDS_Criteria_Curt.xlsx\")"
   ]
  },
  {
   "cell_type": "markdown",
   "id": "b45a8c6e",
   "metadata": {},
   "source": [
    "#### This is to get the ARDS recognition rate in the MIMIC-III subset"
   ]
  },
  {
   "cell_type": "code",
   "execution_count": null,
   "id": "e8a9bc89",
   "metadata": {},
   "outputs": [],
   "source": [
    "ards_recognized = final_numbers[[\n",
    "    'HADM_ID',\n",
    "    'ARDS DOCUMENTED IN NOTE (1=yes)'\n",
    "    ]].drop_duplicates() \\\n",
    "        .groupby('HADM_ID')['ARDS DOCUMENTED IN NOTE (1=yes)'] \\\n",
    "        .sum().to_frame().reset_index()"
   ]
  },
  {
   "cell_type": "code",
   "execution_count": null,
   "id": "4133aaec",
   "metadata": {},
   "outputs": [],
   "source": [
    "ards_by_Curt = final_numbers[[\n",
    "    'HADM_ID',\n",
    "    'FINAL ARDS CURT (1=YES)'\n",
    "    ]].drop_duplicates() \\\n",
    "        .groupby('HADM_ID')['FINAL ARDS CURT (1=YES)'] \\\n",
    "        .sum().to_frame().reset_index()"
   ]
  },
  {
   "cell_type": "code",
   "execution_count": null,
   "id": "c138ae41",
   "metadata": {},
   "outputs": [],
   "source": [
    "recognition_comparison = pd.merge(ards_recognized, ards_by_Curt)"
   ]
  },
  {
   "cell_type": "code",
   "execution_count": null,
   "id": "a8e7c079",
   "metadata": {},
   "outputs": [],
   "source": [
    "recognition_comparison.loc[\n",
    "    recognition_comparison['FINAL ARDS CURT (1=YES)'] == 1,\n",
    "    'ARDS DOCUMENTED IN NOTE (1=yes)'\n",
    "    ].value_counts()"
   ]
  },
  {
   "cell_type": "code",
   "execution_count": null,
   "id": "aedc293f",
   "metadata": {},
   "outputs": [],
   "source": [
    "g = recognition_comparison['FINAL ARDS CURT (1=YES)'] == 1\n",
    "g.sum()"
   ]
  },
  {
   "attachments": {},
   "cell_type": "markdown",
   "id": "8ef26448",
   "metadata": {},
   "source": [
    "## Now, diagnosis."
   ]
  },
  {
   "attachments": {},
   "cell_type": "markdown",
   "id": "3e9cabc4",
   "metadata": {},
   "source": [
    "### PF ratio table: Flagging hypoxemic windows (will check for PEEP >= 5 cm H2O if PEEP available)"
   ]
  },
  {
   "cell_type": "code",
   "execution_count": null,
   "id": "54918ed2",
   "metadata": {},
   "outputs": [],
   "source": [
    "pf, hypox_df = mark_hypoxemic_episodes(pf, peep, 'encounter_id')"
   ]
  },
  {
   "cell_type": "code",
   "execution_count": null,
   "id": "2551732d",
   "metadata": {},
   "outputs": [],
   "source": [
    "print(f\"Encounters with hypoxemia: {hypox_df['encounter_id'].nunique()}\")\n",
    "print(f\"Uniquely-identified hypoxemic entries: {len(hypox_df)}\")"
   ]
  },
  {
   "cell_type": "code",
   "execution_count": null,
   "id": "de99263d",
   "metadata": {},
   "outputs": [],
   "source": [
    "# Ground truth\n",
    "peep_yes = final_numbers['Meet PEEP>=5 Criteria? (1=yes)'] == 1\n",
    "hypoxemia_yes = final_numbers['Meet PF<300 Criteria? (1=yes)'] == 1\n",
    "\n",
    "hypox_df_label = final_numbers.loc[peep_yes & hypoxemia_yes].drop_duplicates()"
   ]
  },
  {
   "cell_type": "code",
   "execution_count": null,
   "id": "1d6bf6c3",
   "metadata": {},
   "outputs": [],
   "source": [
    "print(f\"Encounters with hypoxemia by Curt: {hypox_df_label['HADM_ID'].nunique()}\")"
   ]
  },
  {
   "attachments": {},
   "cell_type": "markdown",
   "id": "ce20d331",
   "metadata": {},
   "source": [
    "### Chest X-ray: Flagging abnormal CXRs and whether they are within 48 h of a hypoxemic record"
   ]
  },
  {
   "attachments": {},
   "cell_type": "markdown",
   "id": "897419f6",
   "metadata": {},
   "source": [
    "#### Flagging those CXR that are \"abnormal\" (bilateral pulmonary opacities consistent with pulmonary edema)."
   ]
  },
  {
   "cell_type": "code",
   "execution_count": null,
   "id": "04df9c50",
   "metadata": {},
   "outputs": [],
   "source": [
    "train_data = training_location / 'cxr_whole_training_dataset.csv'\n",
    "\n",
    "cxr = mark_abnormal_cxr(\n",
    "    cxr,\n",
    "    train_data,\n",
    "    train_col=['segmented_report', 'score'],\n",
    "    test_label_col='curt_bl_infiltrates_(1=yes)',\n",
    "    thresholding=\"f1_score\"\n",
    "    )"
   ]
  },
  {
   "attachments": {},
   "cell_type": "markdown",
   "id": "95ee526c",
   "metadata": {},
   "source": [
    "#### Flagging CXRs that are within 48 h of a hypoxemic entry"
   ]
  },
  {
   "cell_type": "code",
   "execution_count": null,
   "id": "e339e41e",
   "metadata": {},
   "outputs": [],
   "source": [
    "cxr, hypox_pred_abn_cxr_48h = mark_cxr_within_48h_of_post_vent_hypoxemia(\n",
    "    hypox_df,\n",
    "    cxr,\n",
    "    'encounter_id',\n",
    "    'cxr_timestamp'\n",
    "    )"
   ]
  },
  {
   "cell_type": "code",
   "execution_count": null,
   "id": "42e61146",
   "metadata": {},
   "outputs": [],
   "source": [
    "# print(f\"Abnormal CXRs - label: {cxr['curt_bl_infiltrates_(1=yes)'].sum()}\")\n",
    "print(f\"Predicted Abnormal CXRs: {cxr['cxr_score_predicted'].sum()}\")"
   ]
  },
  {
   "cell_type": "code",
   "execution_count": null,
   "id": "55a92997",
   "metadata": {},
   "outputs": [],
   "source": [
    "# print(\n",
    "#     f\"\"\"\n",
    "#     Encounters with abnormal CXRs by Curt: {cxr.loc[\n",
    "#         cxr['curt_bl_infiltrates_(1=yes)'].astype(bool),\n",
    "#         'encounter_id'].nunique()}\n",
    "#     \"\"\"\n",
    "#     )\n",
    "\n",
    "print(\n",
    "    f\"\"\"Encounters with predicted abnormal CXRs: {cxr.loc[\n",
    "        cxr['cxr_score_predicted'],\n",
    "        'encounter_id'\n",
    "        ].nunique()}\"\"\"\n",
    "    )"
   ]
  },
  {
   "cell_type": "code",
   "execution_count": null,
   "id": "5dd81b43",
   "metadata": {},
   "outputs": [],
   "source": [
    "print(\n",
    "    f\"\"\"Encounters with hypoxemia and CXRs within 48h: {cxr.loc[\n",
    "        cxr['within_48h'],\n",
    "        'encounter_id'\n",
    "        ].nunique()}\"\"\"\n",
    "    )\n",
    "\n",
    "print(f\"Uniquely-identified entries: {len(cxr.loc[cxr['within_48h']])}\")"
   ]
  },
  {
   "cell_type": "code",
   "execution_count": null,
   "id": "f2d949ff",
   "metadata": {},
   "outputs": [],
   "source": [
    "print(\n",
    "    f\"\"\"Encounters with hypoxemia and predicted abnormal CXRs within 48h: {hypox_pred_abn_cxr_48h[\n",
    "        'encounter_id'\n",
    "        ].nunique()}\"\"\"\n",
    "    )\n",
    "\n",
    "print(f\"Uniquely-identified entries: {len(hypox_pred_abn_cxr_48h)}\")"
   ]
  },
  {
   "cell_type": "code",
   "execution_count": null,
   "id": "529d8566",
   "metadata": {},
   "outputs": [],
   "source": [
    "# Ground truth!\n",
    "f = hypox_df_label['BL-PF within 48h Criteria? (1=yes)'] == 1\n",
    "hypox_abn_cxr_48h = hypox_df_label.loc[f]\n",
    "\n",
    "print(\n",
    "    f\"\"\"Encounters with hypoxemia and abnormal CXRs within 48h by Curt: {hypox_abn_cxr_48h[\n",
    "        'HADM_ID'\n",
    "        ].nunique()}\"\"\"\n",
    "    )"
   ]
  },
  {
   "attachments": {},
   "cell_type": "markdown",
   "id": "097d0427",
   "metadata": {},
   "source": [
    "### Attending physician notes"
   ]
  },
  {
   "attachments": {},
   "cell_type": "markdown",
   "id": "a512ed13",
   "metadata": {},
   "source": [
    "#### Flag notes within -1 to 7 days of latest of hypoxemia or abnormal CXR report."
   ]
  },
  {
   "cell_type": "code",
   "execution_count": null,
   "id": "448e799b",
   "metadata": {},
   "outputs": [],
   "source": [
    "notes = mark_note_within_7d(\n",
    "    notes,\n",
    "    hypox_df,\n",
    "    hypox_pred_abn_cxr_48h,\n",
    "    'encounter_id',\n",
    "    'cxr_timestamp'\n",
    "    )"
   ]
  },
  {
   "cell_type": "code",
   "execution_count": null,
   "id": "63e508ae",
   "metadata": {},
   "outputs": [],
   "source": [
    "print(\n",
    "    f\"\"\"Encounters with notes within 7 days of hypox_abn_cxr: {notes.loc[\n",
    "        notes['within_7d'],\n",
    "        'encounter_id'\n",
    "        ].nunique()}\"\"\"\n",
    "        )\n",
    "\n",
    "print(f\"Uniquely-identified entries: {len(notes.loc[notes['within_7d']])}\")"
   ]
  },
  {
   "attachments": {},
   "cell_type": "markdown",
   "id": "fbc3ab46",
   "metadata": {},
   "source": [
    "#### Flag notes mentioning any risk factor. Separately, flag notes with cardiac failure language."
   ]
  },
  {
   "cell_type": "code",
   "execution_count": null,
   "id": "5ebe9f36",
   "metadata": {},
   "outputs": [],
   "source": [
    "notes = mark_notes_with_ml(\n",
    "    notes,\n",
    "    training_location,\n",
    "    train_col=['seg_pneumonia', 'pneumonia_sw'],\n",
    "    test_label_col='curt_pneumonia_(1=yes)',\n",
    "    thresholding=\"f1_score\"\n",
    "    )"
   ]
  },
  {
   "cell_type": "code",
   "execution_count": null,
   "id": "2bc5679f",
   "metadata": {},
   "outputs": [],
   "source": [
    "notes = text_match_risk_factors(notes)"
   ]
  },
  {
   "cell_type": "code",
   "execution_count": null,
   "id": "ff16f5b9",
   "metadata": {},
   "outputs": [],
   "source": [
    "notes, diagnosed, excluded, for_objective_assessment = diagnose_or_exclude_encounters(\n",
    "    notes,\n",
    "    hypox_pred_abn_cxr_48h,\n",
    "    'encounter_id'\n",
    "    )"
   ]
  },
  {
   "cell_type": "code",
   "execution_count": null,
   "id": "0c18eb34",
   "metadata": {},
   "outputs": [],
   "source": [
    "print(\n",
    "    f\"{notes.encounter_id.nunique()}, {diagnosed.encounter_id.nunique()}, {excluded.encounter_id.nunique()}, {for_objective_assessment.encounter_id.nunique()}\"\n",
    "    )"
   ]
  },
  {
   "attachments": {},
   "cell_type": "markdown",
   "id": "7d21a26c",
   "metadata": {},
   "source": [
    "### BNP and ECHO reports: Objective assessment of cardiac failure"
   ]
  },
  {
   "attachments": {},
   "cell_type": "markdown",
   "id": "39c51bb0",
   "metadata": {},
   "source": [
    "#### First, let's annotate the ECHO reports with the values/statements of interest:  \n",
    "- lvef < 40%  \n",
    "- cardiopulmonary bypass  \n",
    "- left atrial dimension > 4 cm or volume index > 28 mL/m2  \n",
    "- left ventricular hypertrophy  \n",
    "- Grade II or III diastolic dysfunction"
   ]
  },
  {
   "cell_type": "code",
   "execution_count": null,
   "id": "8399e8ee",
   "metadata": {},
   "outputs": [],
   "source": [
    "# These will be dictionaries whose keys will become the column names for the flags\n",
    "# and the lists will be the regex patterns to search for\n",
    "\n",
    "# (?i) is to inactivate case-sensitivity\n",
    "# (?:) is to indicate that contents inside a parenthesis shouldn't be read as a \"capturing group\"\n",
    "# Default behavior of () is to consider it a capturing group\n",
    "echo_prefix = {'lvef': ['(?i)lv\\s+ejection\\s+fraction',\n",
    "                        '(?i)left\\s+ventricular\\s+ejection\\s+fraction',\n",
    "                        '(?i)lvef',\n",
    "                        '(?i)left\\s+ventricular\\s+ef',\n",
    "                        '(?i)lvef\\s+is',\n",
    "                        '(?i)left\\s+ventricle\\s+ejection\\s+fraction\\s+is',\n",
    "                        '(?i)lv\\s+ejection\\s+fraction\\s+is'],\n",
    "               \n",
    "               # Match \"cardiopulmonary bypass\" ensuring at least one whitespace character between those words\n",
    "              'cp_bypass': ['(?i)cardiopulmonary\\s+bypass'],\n",
    "              \n",
    "              'la_dimension': ['(?i)la\\s+diameter',\n",
    "                               '(?i)la\\s+dimension'],\n",
    "\n",
    "              'la_volume_index': ['(?i)la\\s+volume',\n",
    "                                  '(?i)LA\\s+Vol\\s+BP\\s+A/L\\s+Index'],\n",
    "              \n",
    "              'lv_hypertrophy': ['(?i)(?:left\\s+ventricular|lv|lv\\s+concentric)\\s*hypertrophy',\n",
    "                                 '(?i)LVH'],\n",
    "              \n",
    "              'diastolic_dysfunction': ['(?i)(grade\\s*ii)',\n",
    "                                        '(?i)(grade\\s*iii)']}\n",
    "\n",
    "echo_suffix = {'lvef': '\\D{0,20}(\\d{1,3}|\\d{1,2}\\s*-\\s*\\d{1,3})-{0,1}\\s*%', # Sample matches: 45%, 45 %, 45-55%, 45 - 55 %, 45- 100%, 45- %\n",
    "               'cp_bypass': '(?!\\s*N\\/A|\\s*Patient\\s+was\\s+not\\s+placed\\s+on\\s+cardiopulmonary\\s+bypass|\\s*NA)',  # Don't match if N/A or Patient wasn't placed on CPB\n",
    "               'la_dimension': '\\D{0,25}(\\d\\.\\s*\\d)\\s*(?:cm|centimeter)', # Sample matches: 2.7cm, 2.7 cm, 2.7   centimeter\n",
    "               \n",
    "                # Match anything until \"ml\" appears once or never, then match anything until the number of interest appears\n",
    "                # followed by either ml/m or ml per square meter\n",
    "               'la_volume_index': '.*?(?:ml)?.*?(\\d+\\.\\s*\\d+)\\s+(?:(?=ml\\/m)|(?=ml\\s+per\\s+square\\s+meter))',\n",
    "               'lv_hypertrophy': '',\n",
    "               # Matches anything, either never or up to 30 characters, then an arbitrary number of white spaces,\n",
    "               # as long as \"diastolic dysfunction\" immediately follows.\n",
    "               'diastolic_dysfunction': '.{0,30}\\s*?(?=diastolic\\s+dysfunction)'}"
   ]
  },
  {
   "cell_type": "code",
   "execution_count": null,
   "id": "7245cf7d",
   "metadata": {},
   "outputs": [],
   "source": [
    "echo = flag_echos(echo, echo_prefix, echo_suffix)"
   ]
  },
  {
   "cell_type": "code",
   "execution_count": null,
   "id": "4144079b",
   "metadata": {},
   "outputs": [],
   "source": [
    "# Encounters entering objective assessment\n",
    "print(\n",
    "    f\"\"\"There are {for_objective_assessment[\n",
    "        'encounter_id'\n",
    "        ].nunique()} unique encounters entering objective assessment\"\"\")"
   ]
  },
  {
   "attachments": {},
   "cell_type": "markdown",
   "id": "a3703148",
   "metadata": {},
   "source": [
    "#### 1. Taking away encounters that have BNP > 100 pg/mL"
   ]
  },
  {
   "cell_type": "code",
   "execution_count": null,
   "id": "598fded9",
   "metadata": {},
   "outputs": [],
   "source": [
    "a = bnp['bnp_value'] > 100\n",
    "encounters_with_bnp_greater_than_100 = list(bnp.loc[a, 'encounter_id'].unique())\n",
    "\n",
    "j = for_objective_assessment['encounter_id'].isin(encounters_with_bnp_greater_than_100)\n",
    "remaining_after_bnp = for_objective_assessment.loc[~j]"
   ]
  },
  {
   "cell_type": "code",
   "execution_count": null,
   "id": "23330b6e",
   "metadata": {},
   "outputs": [],
   "source": [
    "# Encounters remaining after bnp exclusion\n",
    "print(\n",
    "    f\"{len(encounters_with_bnp_greater_than_100)} encounters had BNP > 100 pg/mL. {remaining_after_bnp['encounter_id'].nunique()} encounters remain.\"\n",
    "    )"
   ]
  },
  {
   "attachments": {},
   "cell_type": "markdown",
   "id": "a4c4e3d5",
   "metadata": {},
   "source": [
    "#### 2.Taking away encounters that have left ventricular ejection fraction < 40%"
   ]
  },
  {
   "cell_type": "code",
   "execution_count": null,
   "id": "f6da1af7",
   "metadata": {},
   "outputs": [],
   "source": [
    "b = echo['lvef_value'] < 40\n",
    "encounters_with_lvef_smaller_than_40 = list(echo.loc[b, 'encounter_id'].unique())\n",
    "\n",
    "j = remaining_after_bnp['encounter_id'].isin(encounters_with_lvef_smaller_than_40)\n",
    "remaining_after_lvef = remaining_after_bnp.loc[~j]"
   ]
  },
  {
   "cell_type": "code",
   "execution_count": null,
   "id": "0aeb2023",
   "metadata": {},
   "outputs": [],
   "source": [
    "# Encounters remaining after lvef exclusion\n",
    "print(\n",
    "    f\"{len(encounters_with_lvef_smaller_than_40)} encounters had LVEF < 40%. {remaining_after_lvef['encounter_id'].nunique()} encounters remain.\"\n",
    "    )"
   ]
  },
  {
   "attachments": {},
   "cell_type": "markdown",
   "id": "29e729db",
   "metadata": {},
   "source": [
    "#### 3. Taking away encounters that had cardiopulmonary bypass in the report (as a proxy for having had cardiopulmonary bypass during the ECHO)."
   ]
  },
  {
   "cell_type": "code",
   "execution_count": null,
   "id": "3c57445f",
   "metadata": {},
   "outputs": [],
   "source": [
    "cpb = echo['cp_bypass_value'].notnull()\n",
    "encounters_with_cardiopulmonary_bypass = list(echo.loc[cpb, 'encounter_id'].unique())\n",
    "\n",
    "j = remaining_after_lvef['encounter_id'].isin(encounters_with_cardiopulmonary_bypass)\n",
    "remaining_after_cpb = remaining_after_lvef.loc[~j]"
   ]
  },
  {
   "cell_type": "code",
   "execution_count": null,
   "id": "735f66e0",
   "metadata": {},
   "outputs": [],
   "source": [
    "# Encounters remaining after cardiopulmonary bypass exclusion\n",
    "print(\n",
    "    f\"{len(encounters_with_cardiopulmonary_bypass)} encounters had cardiopulmonary bypass. {remaining_after_cpb['encounter_id'].nunique()} encounters remain.\"\n",
    "    )"
   ]
  },
  {
   "attachments": {},
   "cell_type": "markdown",
   "id": "2fce316c",
   "metadata": {},
   "source": [
    "#### 4. Taking away encounters that have two out of three additional criteria:  \n",
    "- Left atrial enlargement (either left atrial dimension > 4 cm or left atrial volume index > 28 mL/m^2)  \n",
    "- Left ventricular hypertrophy  \n",
    "- Grade III or Grade IV diastolic dysfunction"
   ]
  },
  {
   "cell_type": "code",
   "execution_count": null,
   "id": "91cfb3b1",
   "metadata": {},
   "outputs": [],
   "source": [
    "# Scoring the presence of criteria as 0 or 1\n",
    "la_dim = echo['la_dimension_value'] > 4\n",
    "la_vol_idx = echo['la_volume_index_value'] > 28\n",
    "echo.loc[:, 'la_enlargement_bool'] = (la_dim | la_vol_idx).astype(int)\n",
    "echo.loc[:, 'lv_hypertrophy_bool'] = echo['lv_hypertrophy_value'].notnull().astype(int)\n",
    "echo.loc[:, 'diastolic_dysfunction_bool'] = echo['diastolic_dysfunction_value'].notnull().astype(int)\n",
    "\n",
    "echo['additional_criteria_count'] = echo['la_enlargement_bool'] + \\\n",
    "                                    echo['lv_hypertrophy_bool'] + \\\n",
    "                                    echo['diastolic_dysfunction_bool']"
   ]
  },
  {
   "cell_type": "code",
   "execution_count": null,
   "id": "13f9cbd0",
   "metadata": {},
   "outputs": [],
   "source": [
    "add_crit = echo['additional_criteria_count'] > 1\n",
    "encounters_with_additional_criteria = list(echo.loc[add_crit, 'encounter_id'].unique())\n",
    "\n",
    "j = remaining_after_cpb['encounter_id'].isin(encounters_with_additional_criteria)\n",
    "remaining_after_additional_criteria = remaining_after_cpb.loc[~j]"
   ]
  },
  {
   "cell_type": "code",
   "execution_count": null,
   "id": "dfc77230",
   "metadata": {},
   "outputs": [],
   "source": [
    "# Encounters remaining after additional criteria exclusion\n",
    "print(\n",
    "      f\"{len(encounters_with_additional_criteria)} encounters had two out of three additional criteria. {remaining_after_additional_criteria['encounter_id'].nunique()} encounters remain.\"\n",
    "      )"
   ]
  },
  {
   "attachments": {},
   "cell_type": "markdown",
   "id": "eac40f49",
   "metadata": {},
   "source": [
    "# Diagnosed encounters"
   ]
  },
  {
   "cell_type": "code",
   "execution_count": null,
   "id": "dbc040d7",
   "metadata": {},
   "outputs": [],
   "source": [
    "diagnosed_encntrs = diagnosed['encounter_id'].nunique()"
   ]
  },
  {
   "cell_type": "code",
   "execution_count": null,
   "id": "ab6e4865",
   "metadata": {},
   "outputs": [],
   "source": [
    "text1 = \"Encounters diagnosed:\\n\\nPF+CXR+Notes: {diagnosed_encntrs}\".format(\n",
    "    diagnosed_encntrs = diagnosed['encounter_id'].nunique())\n",
    "text2 = \"\\nNo risk factor nor objective evidence of cardiac failure: {encntrs_remaining}\".format(\n",
    "    encntrs_remaining = remaining_after_additional_criteria['encounter_id'].nunique())\n",
    "text3 = \"\\nTotal encounters diagnosed: {total}\".format(\n",
    "    total = diagnosed_encntrs+remaining_after_additional_criteria['encounter_id'].nunique())\n",
    "\n",
    "print(text1+text2+text3)"
   ]
  },
  {
   "cell_type": "markdown",
   "id": "a29c738e",
   "metadata": {},
   "source": [
    "### Massaging the encounters to get list of pipeline diagnosed vs. not diagnosed table"
   ]
  },
  {
   "cell_type": "code",
   "execution_count": null,
   "id": "5f3686ed",
   "metadata": {},
   "outputs": [],
   "source": [
    "encounters_diagnosed_by_pipeline = pd.merge(\n",
    "    diagnosed['encounter_id'].drop_duplicates(),\n",
    "    remaining_after_additional_criteria['encounter_id'].drop_duplicates(),\n",
    "    how='outer'\n",
    "    ).drop_duplicates()"
   ]
  },
  {
   "cell_type": "code",
   "execution_count": null,
   "id": "472a79d3",
   "metadata": {},
   "outputs": [],
   "source": [
    "# Creating encounters table\n",
    "encounter_summary = pd.merge(\n",
    "    total_encounters,\n",
    "    encounters_diagnosed_by_pipeline,\n",
    "    how='outer',\n",
    "    indicator=True\n",
    "    )"
   ]
  },
  {
   "cell_type": "code",
   "execution_count": null,
   "id": "3f07b51a",
   "metadata": {},
   "outputs": [],
   "source": [
    "encounter_summary = encounter_summary.replace(\n",
    "    to_replace={\n",
    "        '_merge': {\n",
    "            \"left_only\": 'No',\n",
    "            \"both\": 'Yes'\n",
    "            }\n",
    "        }\n",
    "    )\n",
    "\n",
    "encounter_summary = encounter_summary.rename(\n",
    "    columns={\n",
    "        '_merge': \"pipeline_diagnosed\"\n",
    "        }\n",
    "    )"
   ]
  },
  {
   "cell_type": "markdown",
   "id": "7e27dc2d",
   "metadata": {},
   "source": [
    "### Now, massaging the labels table"
   ]
  },
  {
   "cell_type": "code",
   "execution_count": null,
   "id": "c1797885",
   "metadata": {},
   "outputs": [],
   "source": [
    "final_numbers.rename(\n",
    "    columns={\n",
    "        'HADM_ID': 'encounter_id',\n",
    "        'FINAL ARDS CURT (1=YES)': 'clinician_diagnosed'\n",
    "        },\n",
    "    inplace=True\n",
    "    )"
   ]
  },
  {
   "cell_type": "code",
   "execution_count": null,
   "id": "23985282",
   "metadata": {},
   "outputs": [],
   "source": [
    "encounters_by_Curt = final_numbers[[\n",
    "    'encounter_id',\n",
    "    'clinician_diagnosed']] \\\n",
    "        .drop_duplicates() \\\n",
    "        .groupby('encounter_id')['clinician_diagnosed'] \\\n",
    "        .sum().to_frame().reset_index()"
   ]
  },
  {
   "cell_type": "markdown",
   "id": "5b31f121",
   "metadata": {},
   "source": [
    "### Merging both adjudications"
   ]
  },
  {
   "cell_type": "code",
   "execution_count": null,
   "id": "b878c8e1",
   "metadata": {},
   "outputs": [],
   "source": [
    "# Adding encounters diagnosed by Curt\n",
    "encounter_summary = pd.merge(encounter_summary, encounters_by_Curt, how='outer')"
   ]
  },
  {
   "cell_type": "code",
   "execution_count": null,
   "id": "7ea7afb1",
   "metadata": {},
   "outputs": [],
   "source": [
    "encounter_summary = encounter_summary.replace(\n",
    "    to_replace={\n",
    "        'clinician_diagnosed': {0: \"No\", 1: \"Yes\"}\n",
    "        }\n",
    "    )"
   ]
  },
  {
   "cell_type": "markdown",
   "id": "7a4f5041",
   "metadata": {},
   "source": [
    "### Plot"
   ]
  },
  {
   "cell_type": "code",
   "execution_count": null,
   "id": "9b54d95a",
   "metadata": {},
   "outputs": [],
   "source": [
    "y_true = encounter_summary['clinician_diagnosed']\n",
    "y_pred = encounter_summary['pipeline_diagnosed']\n",
    "cf = confusion_matrix(y_true, y_pred)\n",
    "\n",
    "strings = np.asarray([['True negatives\\n', 'False positives\\n'],\n",
    "                      ['False negatives\\n', 'True positives\\n']])\n",
    "\n",
    "labels = (np.asarray([\"{0} {1:.0f}\".format(string, value)\n",
    "                      for string, value in zip(strings.flatten(),\n",
    "                                               cf.flatten())])\n",
    "         ).reshape(2, 2)\n",
    "\n",
    "fig2, ax2 = plt.subplots(figsize=plots.stdfigsize())\n",
    "sns.heatmap(cf, fmt='', annot=labels, cmap='Blues', cbar=False, ax=ax2)\n",
    "ax2.set_ylabel(\"Physician adjudicated\")\n",
    "ax2.set_xlabel(\"Pipeline adjudicated\")\n",
    "ax2.tick_params(axis='both', bottom=False, left=False,\n",
    "                labelbottom=False, labelleft=False)\n",
    "\n",
    "plt.tight_layout()\n",
    "plt.show()"
   ]
  },
  {
   "cell_type": "code",
   "execution_count": null,
   "id": "8581eead",
   "metadata": {},
   "outputs": [],
   "source": [
    "cohen_kappa_score(y_true, y_pred)"
   ]
  }
 ],
 "metadata": {
  "kernelspec": {
   "display_name": "base",
   "language": "python",
   "name": "python3"
  },
  "language_info": {
   "codemirror_mode": {
    "name": "ipython",
    "version": 3
   },
   "file_extension": ".py",
   "mimetype": "text/x-python",
   "name": "python",
   "nbconvert_exporter": "python",
   "pygments_lexer": "ipython3",
   "version": "3.10.12"
  }
 },
 "nbformat": 4,
 "nbformat_minor": 5
}
