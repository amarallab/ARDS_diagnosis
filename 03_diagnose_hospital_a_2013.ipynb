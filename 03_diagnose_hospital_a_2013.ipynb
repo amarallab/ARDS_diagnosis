{
 "cells": [
  {
   "cell_type": "code",
   "execution_count": null,
   "id": "be528285",
   "metadata": {},
   "outputs": [],
   "source": [
    "# Generic imports\n",
    "import json\n",
    "import pandas as pd\n",
    "import numpy as np\n",
    "import seaborn as sns\n",
    "import matplotlib.pyplot as plt\n",
    "from pathlib import Path\n",
    "from datetime import timedelta\n",
    "from sklearn.metrics import (\n",
    "    confusion_matrix,\n",
    "    cohen_kappa_score\n",
    ")"
   ]
  },
  {
   "cell_type": "code",
   "execution_count": null,
   "id": "50d62f9e",
   "metadata": {},
   "outputs": [],
   "source": [
    "# Custom imports\n",
    "from src.diagnosis_tools import (\n",
    "    mark_hypoxemic_episodes,\n",
    "    mark_abnormal_cxr,\n",
    "    mark_cxr_within_48h_of_post_vent_hypoxemia,\n",
    "    mark_note_within_7d,\n",
    "    mark_notes_with_ml,\n",
    "    text_match_risk_factors,\n",
    "    diagnose_or_exclude_encounters,\n",
    "    flag_echos\n",
    ")\n",
    "import src.plots as plots"
   ]
  },
  {
   "cell_type": "code",
   "execution_count": null,
   "id": "34260343",
   "metadata": {},
   "outputs": [],
   "source": [
    "# set plotting params\n",
    "import matplotlib as mpl\n",
    "mpl.rcParams.update(mpl.rcParamsDefault)\n",
    "plt.style.reload_library()\n",
    "rcparams = plots.stdrcparams1()\n",
    "mpl.rcParams.update(rcparams)"
   ]
  },
  {
   "cell_type": "code",
   "execution_count": null,
   "id": "5847b249",
   "metadata": {},
   "outputs": [],
   "source": [
    "# Custom display of tables for easier inspection\n",
    "pd.set_option('display.max_colwidth', None)\n",
    "pd.set_option('display.max_columns', None)\n",
    "pd.set_option('display.width', None)"
   ]
  },
  {
   "attachments": {},
   "cell_type": "markdown",
   "id": "54f9f0c0",
   "metadata": {},
   "source": [
    "While criteria to identify ARDS includes more than these, from the perspective of files these will be the important files/criteria:  \n",
    "-PF ratios (ARDS if PF<=300 mmHg and PEEP>=5 cm H20 anytime during encounter)  \n",
    "-Chest X-ray reports (ARDS if bilateral pulmonary opacities identified within 48 h window of PF ratio <= 300 AND both timestamps happen after intubation).  \n",
    "-First and second criteria happening within 7 days of a known ARDS risk factor (-1 to 7 days of latest timestamp of above combo). Search attending physician notes for this.  \n",
    "-If no risk factor found, seek language ruling out cardiac failure in attending physician notes.  \n",
    "-If no cardiac failure language found, use objective criteria form echocardiography reports to rule out cardiac failure, otherwise, ARDS is adjudicated (window of entire hospitalization)."
   ]
  },
  {
   "attachments": {},
   "cell_type": "markdown",
   "id": "cfa5bc94",
   "metadata": {},
   "source": [
    "## Read in the tables"
   ]
  },
  {
   "cell_type": "code",
   "execution_count": null,
   "id": "dcad05bf",
   "metadata": {},
   "outputs": [],
   "source": [
    "basedir = Path(\"..\")\n",
    "analysis_location = basedir / 'Analysis_Data'\n",
    "training_location = analysis_location / 'train_ML'\n",
    "cohort = 'hospital_a_2013'\n",
    "path = analysis_location / cohort"
   ]
  },
  {
   "cell_type": "code",
   "execution_count": null,
   "id": "50dd5769",
   "metadata": {},
   "outputs": [],
   "source": [
    "pf = pd.read_csv(path / \"pf_ratio.csv\")\n",
    "pf['pf_ratio_timestamp'] = pd.to_timedelta(pf['pf_ratio_timestamp'])\n",
    "pf['vent_start_timestamp'] = pd.to_timedelta(pf['vent_start_timestamp'])\n",
    "\n",
    "try:\n",
    "    peep = pd.read_csv(path / \"peep.csv\")\n",
    "    peep['peep_timestamp'] = pd.to_timedelta(peep['peep_timestamp'])\n",
    "except FileNotFoundError:\n",
    "    peep = None\n",
    "    print(\"This dataset doesn't seem to have peep separately specified.\")\n",
    "\n",
    "cxr = pd.read_csv(path / \"cxr.csv\")\n",
    "cxr['cxr_timestamp'] = pd.to_timedelta(cxr['cxr_timestamp'])\n",
    "\n",
    "notes = pd.read_csv(path / \"attending_notes.csv\")\n",
    "notes['notes_timestamp'] = pd.to_timedelta(notes['notes_timestamp'])\n",
    "\n",
    "echo = pd.read_csv(path / \"echo_reports.csv\")\n",
    "echo['echo_timestamp'] = pd.to_timedelta(echo['echo_timestamp'])\n",
    "\n",
    "bnp = pd.read_csv(path / \"bnp.csv\")\n",
    "bnp['bnp_timestamp'] = pd.to_timedelta(bnp['bnp_timestamp'])"
   ]
  },
  {
   "attachments": {},
   "cell_type": "markdown",
   "id": "2c78d54b",
   "metadata": {},
   "source": [
    "## Now, diagnosis."
   ]
  },
  {
   "attachments": {},
   "cell_type": "markdown",
   "id": "ef1dd20c",
   "metadata": {},
   "source": [
    "### PF ratio table: Flagging hypoxemic windows (will check for PEEP >= 5 cm H2O if PEEP available)"
   ]
  },
  {
   "cell_type": "code",
   "execution_count": null,
   "id": "33f62a35",
   "metadata": {},
   "outputs": [],
   "source": [
    "pf, hypox_df = mark_hypoxemic_episodes(pf, peep, 'encounter_id')"
   ]
  },
  {
   "cell_type": "code",
   "execution_count": null,
   "id": "e0f55888",
   "metadata": {},
   "outputs": [],
   "source": [
    "print(f\"Encounters with hypoxemia: {hypox_df['encounter_id'].nunique()}\")\n",
    "print(f\"Uniquely-identified hypoxemic entries: {len(hypox_df)}\")"
   ]
  },
  {
   "attachments": {},
   "cell_type": "markdown",
   "id": "04f42e07",
   "metadata": {},
   "source": [
    "### Chest X-ray: Flagging abnormal CXRs and whether they are within 48 h of a hypoxemic record"
   ]
  },
  {
   "attachments": {},
   "cell_type": "markdown",
   "id": "06de4351",
   "metadata": {},
   "source": [
    "#### Flagging those CXR that are \"abnormal\" (bilateral pulmonary opacities consistent with pulmonary edema)."
   ]
  },
  {
   "cell_type": "code",
   "execution_count": null,
   "id": "d04f094b",
   "metadata": {},
   "outputs": [],
   "source": [
    "train_data = training_location / 'cxr_whole_training_dataset.csv'\n",
    "\n",
    "cxr = mark_abnormal_cxr(\n",
    "    cxr_table=cxr,\n",
    "    train_data_path=train_data,\n",
    "    train_col=['segmented_report', 'score'],\n",
    "    test_label_col='cxr_score',\n",
    "    thresholding=\"default\"\n",
    "    )"
   ]
  },
  {
   "attachments": {},
   "cell_type": "markdown",
   "id": "9c7817ea",
   "metadata": {},
   "source": [
    "#### Flagging CXRs that are within 48 h of a hypoxemic entry"
   ]
  },
  {
   "cell_type": "code",
   "execution_count": null,
   "id": "949ed882",
   "metadata": {},
   "outputs": [],
   "source": [
    "cxr, hypox_pred_abn_cxr_48h = mark_cxr_within_48h_of_post_vent_hypoxemia(\n",
    "    hypox_df,\n",
    "    cxr,\n",
    "    'encounter_id',\n",
    "    'cxr_timestamp'\n",
    "    )"
   ]
  },
  {
   "cell_type": "code",
   "execution_count": null,
   "id": "2d922807",
   "metadata": {},
   "outputs": [],
   "source": [
    "print(f\"Abnormal CXRs - label: {cxr['cxr_score'].sum()}\")\n",
    "print(f\"Predicted Abnormal CXRs: {cxr['cxr_score_predicted'].sum()}\")"
   ]
  },
  {
   "cell_type": "code",
   "execution_count": null,
   "id": "4c5c0853",
   "metadata": {},
   "outputs": [],
   "source": [
    "print(f\"\"\"Encounters with abnormal CXRs - label: {cxr.loc[\n",
    "    cxr['cxr_score'].astype(bool),\n",
    "    'encounter_id'\n",
    "    ].nunique()}\"\"\"\n",
    "    )\n",
    "\n",
    "print(f\"\"\"Encounters with predicted abnormal CXRs: {cxr.loc[\n",
    "    cxr['cxr_score_predicted'],\n",
    "    'encounter_id'\n",
    "    ].nunique()}\"\"\"\n",
    "    )"
   ]
  },
  {
   "cell_type": "code",
   "execution_count": null,
   "id": "2c43168f",
   "metadata": {},
   "outputs": [],
   "source": [
    "print(\n",
    "    f\"\"\"Encounters with hypoxemia and CXRs within 48h: {cxr.loc[\n",
    "    cxr['within_48h'],\n",
    "    'encounter_id'\n",
    "    ].nunique()}\"\"\"\n",
    "    )\n",
    "\n",
    "print(f\"Uniquely-identified entries: {len(cxr.loc[cxr['within_48h']])}\")"
   ]
  },
  {
   "cell_type": "code",
   "execution_count": null,
   "id": "5231a934",
   "metadata": {},
   "outputs": [],
   "source": [
    "print(\n",
    "    f\"\"\"Encounters with hypoxemia and predicted abnormal CXRs within 48h: {hypox_pred_abn_cxr_48h[\n",
    "    'encounter_id'\n",
    "    ].nunique()}\"\"\"\n",
    "    )\n",
    "\n",
    "print(f\"Uniquely-identified entries: {len(hypox_pred_abn_cxr_48h)}\")"
   ]
  },
  {
   "attachments": {},
   "cell_type": "markdown",
   "id": "4f15121d",
   "metadata": {},
   "source": [
    "### Attending physician notes"
   ]
  },
  {
   "attachments": {},
   "cell_type": "markdown",
   "id": "ab46830b",
   "metadata": {},
   "source": [
    "#### Flag notes within -1 to 7 days of latest of hypoxemia or abnormal CXR report."
   ]
  },
  {
   "cell_type": "code",
   "execution_count": null,
   "id": "30b0287d",
   "metadata": {},
   "outputs": [],
   "source": [
    "notes = mark_note_within_7d(\n",
    "    notes,\n",
    "    hypox_df,\n",
    "    hypox_pred_abn_cxr_48h,\n",
    "    'encounter_id',\n",
    "    'cxr_timestamp'\n",
    "    )"
   ]
  },
  {
   "cell_type": "code",
   "execution_count": null,
   "id": "8768f0f2",
   "metadata": {},
   "outputs": [],
   "source": [
    "print(\n",
    "    f\"\"\"Encounters with notes within 7 days of hypox_abn_cxr: {notes.loc[\n",
    "    notes['within_7d'],\n",
    "    'encounter_id'\n",
    "    ].nunique()}\"\"\"\n",
    "    )\n",
    "\n",
    "print(f\"Uniquely-identified entries: {len(notes.loc[notes['within_7d']])}\")"
   ]
  },
  {
   "attachments": {},
   "cell_type": "markdown",
   "id": "bc84fa55",
   "metadata": {},
   "source": [
    "#### Flag notes mentioning any risk factor. Separately, flag notes with cardiac failure language."
   ]
  },
  {
   "cell_type": "code",
   "execution_count": null,
   "id": "33007033",
   "metadata": {},
   "outputs": [],
   "source": [
    "notes = mark_notes_with_ml(\n",
    "    attn_notes=notes,\n",
    "    train_data_path=training_location,\n",
    "    train_col=['seg_pneumonia', 'pneumonia_sw'],\n",
    "    thresholding=\"default\"\n",
    "    )"
   ]
  },
  {
   "cell_type": "code",
   "execution_count": null,
   "id": "4492d636",
   "metadata": {},
   "outputs": [],
   "source": [
    "notes = text_match_risk_factors(notes)"
   ]
  },
  {
   "cell_type": "code",
   "execution_count": null,
   "id": "bdf69967",
   "metadata": {},
   "outputs": [],
   "source": [
    "notes, diagnosed, excluded, for_objective_assessment = diagnose_or_exclude_encounters(\n",
    "    notes,\n",
    "    hypox_pred_abn_cxr_48h,\n",
    "    'encounter_id'\n",
    "    )"
   ]
  },
  {
   "cell_type": "code",
   "execution_count": null,
   "id": "c2b4c28e",
   "metadata": {},
   "outputs": [],
   "source": [
    "print(\n",
    "    f\"{notes.encounter_id.nunique()}, {diagnosed.encounter_id.nunique()}, {excluded.encounter_id.nunique()}, {for_objective_assessment.encounter_id.nunique()}\"\n",
    "    )"
   ]
  },
  {
   "attachments": {},
   "cell_type": "markdown",
   "id": "20d5b37f",
   "metadata": {},
   "source": [
    "### BNP and ECHO reports: Objective assessment of cardiac failure"
   ]
  },
  {
   "attachments": {},
   "cell_type": "markdown",
   "id": "754201bd",
   "metadata": {},
   "source": [
    "#### First, let's annotate the ECHO reports with the values/statements of interest:  \n",
    "- lvef < 40%  \n",
    "- cardiopulmonary bypass  \n",
    "- left atrial dimension > 4 cm or volume index > 28 mL/m2  \n",
    "- left ventricular hypertrophy  \n",
    "- Grade II or III diastolic dysfunction"
   ]
  },
  {
   "cell_type": "code",
   "execution_count": null,
   "id": "f0096a7d",
   "metadata": {},
   "outputs": [],
   "source": [
    "# These will be dictionaries whose keys will become the column names for the flags\n",
    "# and the lists will be the regex patterns to search for\n",
    "\n",
    "# (?i) is to inactivate case-sensitivity\n",
    "# (?:) is to indicate that contents inside a parenthesis shouldn't be read as a \"capturing group\"\n",
    "# Default behavior of () is to consider it a capturing group\n",
    "echo_prefix = {'lvef': ['(?i)lv\\s+ejection\\s+fraction',\n",
    "                        '(?i)left\\s+ventricular\\s+ejection\\s+fraction',\n",
    "                        '(?i)lvef',\n",
    "                        '(?i)left\\s+ventricular\\s+ef',\n",
    "                        '(?i)lvef\\s+is',\n",
    "                        '(?i)left\\s+ventricle\\s+ejection\\s+fraction\\s+is',\n",
    "                        '(?i)lv\\s+ejection\\s+fraction\\s+is'],\n",
    "               \n",
    "               # Match \"cardiopulmonary bypass\" ensuring at least one whitespace character between those words\n",
    "              'cp_bypass': ['(?i)cardiopulmonary\\s+bypass'],\n",
    "              \n",
    "              'la_dimension': ['(?i)la\\s+diameter',\n",
    "                               '(?i)la\\s+dimension'],\n",
    "\n",
    "              'la_volume_index': ['(?i)la\\s+volume',\n",
    "                                  '(?i)LA\\s+Vol\\s+BP\\s+A/L\\s+Index'],\n",
    "              \n",
    "              'lv_hypertrophy': ['(?i)(?:left\\s+ventricular|lv|lv\\s+concentric)\\s*hypertrophy',\n",
    "                                 '(?i)LVH'],\n",
    "              \n",
    "              'diastolic_dysfunction': ['(?i)(grade\\s*ii)',\n",
    "                                        '(?i)(grade\\s*iii)']}\n",
    "\n",
    "echo_suffix = {'lvef': '\\D{0,20}(\\d{1,3}|\\d{1,2}\\s*-\\s*\\d{1,3})-{0,1}\\s*%', # Sample matches: 45%, 45 %, 45-55%, 45 - 55 %, 45- 100%, 45- %\n",
    "               'cp_bypass': '(?!\\s*N\\/A|\\s*Patient\\s+was\\s+not\\s+placed\\s+on\\s+cardiopulmonary\\s+bypass|\\s*NA)',  # Don't match if N/A or Patient wasn't placed on CPB\n",
    "               'la_dimension': '\\D{0,25}(\\d\\.\\s*\\d)\\s*(?:cm|centimeter)', # Sample matches: 2.7cm, 2.7 cm, 2.7   centimeter\n",
    "               \n",
    "                # Match anything until \"ml\" appears once or never, then match anything until the number of interest appears\n",
    "                # followed by either ml/m or ml per square meter\n",
    "               'la_volume_index': '.*?(?:ml)?.*?(\\d+\\.\\s*\\d+)\\s+(?:(?=ml\\/m)|(?=ml\\s+per\\s+square\\s+meter))',\n",
    "               'lv_hypertrophy': '',\n",
    "               # Matches anything, either never or up to 30 characters, then an arbitrary number of white spaces,\n",
    "               # as long as \"diastolic dysfunction\" immediately follows.\n",
    "               'diastolic_dysfunction': '.{0,30}\\s*?(?=diastolic\\s+dysfunction)'}"
   ]
  },
  {
   "cell_type": "code",
   "execution_count": null,
   "id": "3f1e8fa0",
   "metadata": {},
   "outputs": [],
   "source": [
    "echo = flag_echos(echo, echo_prefix, echo_suffix)"
   ]
  },
  {
   "cell_type": "code",
   "execution_count": null,
   "id": "b1d02247",
   "metadata": {},
   "outputs": [],
   "source": [
    "# Encounters entering objective assessment\n",
    "text = \"There are {obj_assess_encntrs} unique encounters entering objective assessment\".format(\n",
    "obj_assess_encntrs = for_objective_assessment['encounter_id'].nunique())\n",
    "print(text)"
   ]
  },
  {
   "attachments": {},
   "cell_type": "markdown",
   "id": "e3e843f0",
   "metadata": {},
   "source": [
    "#### 1. Taking away encounters that have BNP > 100 pg/mL"
   ]
  },
  {
   "cell_type": "code",
   "execution_count": null,
   "id": "d85e1306",
   "metadata": {},
   "outputs": [],
   "source": [
    "a = bnp['bnp_value'] > 100\n",
    "encounters_with_bnp_greater_than_100 = list(bnp.loc[a, 'encounter_id'].unique())\n",
    "\n",
    "j = for_objective_assessment['encounter_id'].isin(encounters_with_bnp_greater_than_100)\n",
    "remaining_after_bnp = for_objective_assessment.loc[~j]"
   ]
  },
  {
   "cell_type": "code",
   "execution_count": null,
   "id": "2be56a36",
   "metadata": {},
   "outputs": [],
   "source": [
    "# Encounters remaining after bnp exclusion\n",
    "text1 = \"{encntrs_with_bnp_greater_than_100} encounters in BNP table have BNP > 100 pg/mL\".format(\n",
    "    encntrs_with_bnp_greater_than_100 = len(encounters_with_bnp_greater_than_100))\n",
    "\n",
    "text2 = \"\\n{encntrs_remaining} encounters remain\".format(\n",
    "    encntrs_remaining = remaining_after_bnp['encounter_id'].nunique())\n",
    "\n",
    "print(text1+text2)"
   ]
  },
  {
   "attachments": {},
   "cell_type": "markdown",
   "id": "f68d1fd3",
   "metadata": {},
   "source": [
    "#### 2.Taking away encounters that have left ventricular ejection fraction < 40%"
   ]
  },
  {
   "cell_type": "code",
   "execution_count": null,
   "id": "0c8dce38",
   "metadata": {},
   "outputs": [],
   "source": [
    "b = echo['lvef_value'] < 40\n",
    "encounters_with_lvef_smaller_than_40 = list(echo.loc[b, 'encounter_id'].unique())\n",
    "\n",
    "j = remaining_after_bnp['encounter_id'].isin(encounters_with_lvef_smaller_than_40)\n",
    "remaining_after_lvef = remaining_after_bnp.loc[~j]"
   ]
  },
  {
   "cell_type": "code",
   "execution_count": null,
   "id": "7c1ae3d1",
   "metadata": {},
   "outputs": [],
   "source": [
    "# Encounters remaining after lvef exclusion\n",
    "text1 = \"{encntrs_with_lvef_smaller_than_40} encounters in ECHO have with LVEF < 40%\".format(\n",
    "    encntrs_with_lvef_smaller_than_40 = len(encounters_with_lvef_smaller_than_40))\n",
    "\n",
    "text2 = \"\\n{encntrs_remaining} encounters remain\".format(\n",
    "    encntrs_remaining = remaining_after_lvef['encounter_id'].nunique())\n",
    "\n",
    "print(text1+text2)"
   ]
  },
  {
   "attachments": {},
   "cell_type": "markdown",
   "id": "bba73db3",
   "metadata": {},
   "source": [
    "#### 3. Taking away encounters that had cardiopulmonary bypass in the report (as a proxy for having had cardiopulmonary bypass during the ECHO)."
   ]
  },
  {
   "cell_type": "code",
   "execution_count": null,
   "id": "bda50b36",
   "metadata": {},
   "outputs": [],
   "source": [
    "cpb = echo['cp_bypass_value'].notnull()\n",
    "encounters_with_cardiopulmonary_bypass = list(echo.loc[cpb, 'encounter_id'].unique())\n",
    "\n",
    "j = remaining_after_lvef['encounter_id'].isin(encounters_with_cardiopulmonary_bypass)\n",
    "remaining_after_cpb = remaining_after_lvef.loc[~j]"
   ]
  },
  {
   "cell_type": "code",
   "execution_count": null,
   "id": "bf51838b",
   "metadata": {},
   "outputs": [],
   "source": [
    "# Encounters remaining after cardiopulmonary bypass exclusion\n",
    "text1 = \"{encntrs_with_cb} encounters in ECHO table have cardiopulmonary bypass\".format(\n",
    "    encntrs_with_cb = len(encounters_with_cardiopulmonary_bypass))\n",
    "\n",
    "text2 = \"\\n{encntrs_remaining} encounters remain\".format(\n",
    "    encntrs_remaining = remaining_after_cpb['encounter_id'].nunique())\n",
    "\n",
    "print(text1+text2)"
   ]
  },
  {
   "attachments": {},
   "cell_type": "markdown",
   "id": "2fd9c698",
   "metadata": {},
   "source": [
    "#### 4. Taking away encounters that have two out of three additional criteria:  \n",
    "- Left atrial enlargement (either left atrial dimension > 4 cm or left atrial volume index > 28 mL/m^2)  \n",
    "- Left ventricular hypertrophy  \n",
    "- Grade II or Grade III diastolic dysfunction"
   ]
  },
  {
   "cell_type": "code",
   "execution_count": null,
   "id": "9082a04a",
   "metadata": {},
   "outputs": [],
   "source": [
    "# Scoring the presence of criteria as 0 or 1\n",
    "la_dim = echo['la_dimension_value'] > 4\n",
    "la_vol_idx = echo['la_volume_index_value'] > 28\n",
    "echo.loc[:, 'la_enlargement_bool'] = (la_dim | la_vol_idx).astype(int)\n",
    "echo.loc[:, 'lv_hypertrophy_bool'] = echo['lv_hypertrophy_value'].notnull().astype(int)\n",
    "echo.loc[:, 'diastolic_dysfunction_bool'] = echo[\n",
    "    'diastolic_dysfunction_value'\n",
    "    ].notnull().astype(int)\n",
    "\n",
    "echo['additional_criteria_count'] = echo['la_enlargement_bool'] + \\\n",
    "                                    echo['lv_hypertrophy_bool'] + \\\n",
    "                                    echo['diastolic_dysfunction_bool']"
   ]
  },
  {
   "cell_type": "code",
   "execution_count": null,
   "id": "4c2b214c",
   "metadata": {},
   "outputs": [],
   "source": [
    "add_crit = echo['additional_criteria_count'] > 1\n",
    "encounters_with_additional_criteria = list(echo.loc[add_crit, 'encounter_id'].unique())\n",
    "\n",
    "j = remaining_after_cpb['encounter_id'].isin(encounters_with_additional_criteria)\n",
    "remaining_after_additional_criteria = remaining_after_cpb.loc[~j]"
   ]
  },
  {
   "cell_type": "code",
   "execution_count": null,
   "id": "8926787e",
   "metadata": {},
   "outputs": [],
   "source": [
    "# Encounters remaining after additional criteria exclusion\n",
    "text1 = \"{encntrs_with_addtnl_crit} encounters in ECHO table have two out of three additional criteria\".format(\n",
    "    encntrs_with_addtnl_crit = len(encounters_with_additional_criteria))\n",
    "\n",
    "text2 = \"\\n{encntrs_remaining} encounters remain\".format(\n",
    "    encntrs_remaining = remaining_after_additional_criteria['encounter_id'].nunique())\n",
    "\n",
    "print(text1+text2)"
   ]
  },
  {
   "cell_type": "code",
   "execution_count": null,
   "id": "2f0e6a95",
   "metadata": {},
   "outputs": [],
   "source": [
    "encounters_remaining = remaining_after_additional_criteria['encounter_id'].drop_duplicates()"
   ]
  },
  {
   "attachments": {},
   "cell_type": "markdown",
   "id": "8afd2af9",
   "metadata": {},
   "source": [
    "# Diagnosed encounters"
   ]
  },
  {
   "cell_type": "code",
   "execution_count": null,
   "id": "c8db3b5f",
   "metadata": {},
   "outputs": [],
   "source": [
    "excl_encntrs = excluded['encounter_id'].nunique()\n",
    "diagnosed_encntrs = diagnosed['encounter_id'].nunique()"
   ]
  },
  {
   "cell_type": "code",
   "execution_count": null,
   "id": "16cfc1e7",
   "metadata": {},
   "outputs": [],
   "source": [
    "text1 = \"Encounters diagnosed:\\n\\nPF+CXR+Notes: {diagnosed_encntrs}\".format(\n",
    "    diagnosed_encntrs = diagnosed['encounter_id'].nunique())\n",
    "text2 = \"\\nNo risk factor nor objective evidence of cardiac failure: {encntrs_remaining}\".format(\n",
    "    encntrs_remaining = remaining_after_additional_criteria['encounter_id'].nunique())\n",
    "text3 = \"\\nTotal encounters diagnosed: {total}\".format(\n",
    "    total = diagnosed_encntrs+remaining_after_additional_criteria['encounter_id'].nunique())\n",
    "\n",
    "print(text1+text2+text3)"
   ]
  },
  {
   "cell_type": "markdown",
   "id": "59ec4458",
   "metadata": {},
   "source": [
    "Taking away encounters without ECHOs or BNP values"
   ]
  },
  {
   "cell_type": "code",
   "execution_count": null,
   "id": "e569ff33",
   "metadata": {},
   "outputs": [],
   "source": [
    "# File having encounters diagnosed as ARDS in CCM paper\n",
    "encounters_diagnosed_in_CCM = pd.read_csv(basedir / \"Raw_data\" / \"hospital_a_2013\" / 'ards' / 'ARDS_final.csv')\n",
    "encounters_diagnosed_in_CCM = encounters_diagnosed_in_CCM.rename(\n",
    "    columns={\n",
    "        \"encounter_ID\": \"encounter_id\"\n",
    "        }\n",
    "    )\n",
    "\n",
    "encounters_diagnosed_by_pipeline = pd.merge(\n",
    "    diagnosed['encounter_id'].drop_duplicates(),\n",
    "    remaining_after_additional_criteria['encounter_id'].drop_duplicates(),\n",
    "    how='outer'\n",
    "    ).drop_duplicates()"
   ]
  },
  {
   "cell_type": "code",
   "execution_count": null,
   "id": "b1dab337",
   "metadata": {},
   "outputs": [],
   "source": [
    "# Anonymizing encounter IDs\n",
    "with open(basedir / \"Anonymization_notebooks\" / \"keys\" / 'map_ids_hospital_a_2013.json', 'r') as key_file:\n",
    "    keys = json.load(key_file)\n",
    "    \n",
    "encounters_diagnosed_in_CCM = encounters_diagnosed_in_CCM.replace(\n",
    "    to_replace={\n",
    "        'encounter_id': keys\n",
    "        },\n",
    "    method=\"None\"\n",
    "    )"
   ]
  },
  {
   "cell_type": "code",
   "execution_count": null,
   "id": "8652c403",
   "metadata": {},
   "outputs": [],
   "source": [
    "# remove alphanumeric IDs\n",
    "encounters_diagnosed_in_CCM_list = encounters_diagnosed_in_CCM.to_dict(orient='records')\n",
    "cleaned_CCM_list = []\n",
    "\n",
    "for item in encounters_diagnosed_in_CCM_list:\n",
    "    if type(item['encounter_id']) is int:\n",
    "        cleaned_CCM_list.append(item)\n",
    "        \n",
    "cleaned_CCM_encounters = pd.DataFrame(cleaned_CCM_list)"
   ]
  },
  {
   "cell_type": "code",
   "execution_count": null,
   "id": "e5a74dd8",
   "metadata": {},
   "outputs": [],
   "source": [
    "# Creating encounters table\n",
    "encounter_summary = pd.merge(\n",
    "    hypox_df['encounter_id'].drop_duplicates(),\n",
    "    encounters_diagnosed_by_pipeline,\n",
    "    how='outer',\n",
    "    indicator=True\n",
    "    )"
   ]
  },
  {
   "cell_type": "code",
   "execution_count": null,
   "id": "fcc88eba",
   "metadata": {},
   "outputs": [],
   "source": [
    "encounter_summary = encounter_summary.replace(\n",
    "    to_replace={\n",
    "        '_merge': {\n",
    "            \"left_only\": 'No',\n",
    "            \"both\": 'Yes'\n",
    "            }\n",
    "        }\n",
    "    )\n",
    "\n",
    "encounter_summary = encounter_summary.rename(\n",
    "    columns={\n",
    "        '_merge': \"pipeline_diagnosed\"\n",
    "        }\n",
    "    )"
   ]
  },
  {
   "cell_type": "code",
   "execution_count": null,
   "id": "105168ca",
   "metadata": {},
   "outputs": [],
   "source": [
    "# Adding encounters diagnosed in CCM\n",
    "encounter_summary = pd.merge(\n",
    "    encounter_summary,\n",
    "    cleaned_CCM_encounters,\n",
    "    how='outer',\n",
    "    indicator=True\n",
    "    )"
   ]
  },
  {
   "cell_type": "code",
   "execution_count": null,
   "id": "d84ae065",
   "metadata": {},
   "outputs": [],
   "source": [
    "encounter_summary = encounter_summary.replace(\n",
    "    to_replace={\n",
    "        '_merge': {\n",
    "            \"left_only\": \"No\",\n",
    "            \"both\": \"Yes\"\n",
    "            }\n",
    "        }\n",
    "    )\n",
    "encounter_summary = encounter_summary.rename(\n",
    "    columns={\n",
    "        '_merge': \"CCM_diagnosed\"\n",
    "        }\n",
    "    )"
   ]
  },
  {
   "cell_type": "code",
   "execution_count": null,
   "id": "89f776ba",
   "metadata": {},
   "outputs": [],
   "source": [
    "y_true = encounter_summary['CCM_diagnosed']\n",
    "y_pred = encounter_summary['pipeline_diagnosed']\n",
    "cf = confusion_matrix(y_true, y_pred)\n",
    "\n",
    "strings = np.asarray([['True negatives\\n', 'False positives\\n'],\n",
    "                      ['False negatives\\n', 'True positives\\n']])\n",
    "\n",
    "labels = (np.asarray([\"{0} {1:.0f}\".format(string, value)\n",
    "                      for string, value in zip(strings.flatten(),\n",
    "                                               cf.flatten())])\n",
    "         ).reshape(2, 2)\n",
    "\n",
    "fig1, ax1 = plt.subplots(figsize=plots.stdfigsize())\n",
    "sns.heatmap(cf, fmt='', annot=labels, cmap='Blues', cbar=False, ax=ax1)\n",
    "ax1.set_ylabel(\"Physician adjudicated\")\n",
    "ax1.set_xlabel(\"Pipeline adjudicated\")\n",
    "ax1.tick_params(axis='both', bottom=False, left=False,\n",
    "                labelbottom=False, labelleft=False)\n",
    "\n",
    "plt.tight_layout()\n",
    "plt.show()"
   ]
  },
  {
   "cell_type": "code",
   "execution_count": null,
   "id": "e4b80d6f",
   "metadata": {},
   "outputs": [],
   "source": [
    "cohen_kappa_score(y_true, y_pred)"
   ]
  }
 ],
 "metadata": {
  "kernelspec": {
   "display_name": "base",
   "language": "python",
   "name": "python3"
  },
  "language_info": {
   "codemirror_mode": {
    "name": "ipython",
    "version": 3
   },
   "file_extension": ".py",
   "mimetype": "text/x-python",
   "name": "python",
   "nbconvert_exporter": "python",
   "pygments_lexer": "ipython3",
   "version": "3.10.12"
  }
 },
 "nbformat": 4,
 "nbformat_minor": 5
}
