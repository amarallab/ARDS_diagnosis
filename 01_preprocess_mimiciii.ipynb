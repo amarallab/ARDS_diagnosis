{
 "cells": [
  {
   "attachments": {},
   "cell_type": "markdown",
   "id": "f7de90ba",
   "metadata": {},
   "source": [
    "# This notebook preprocesses MIMIC-III tables"
   ]
  },
  {
   "cell_type": "code",
   "execution_count": null,
   "id": "7d19fdb8",
   "metadata": {},
   "outputs": [],
   "source": [
    "# Generic imports\n",
    "import pandas as pd\n",
    "from pathlib import Path"
   ]
  },
  {
   "cell_type": "code",
   "execution_count": null,
   "id": "3dd00897",
   "metadata": {},
   "outputs": [],
   "source": [
    "# Custom imports\n",
    "from src.processing_tools import (\n",
    "    read_in_files,\n",
    "    preprocess_tables\n",
    ")   "
   ]
  },
  {
   "cell_type": "code",
   "execution_count": null,
   "id": "cc311df8",
   "metadata": {},
   "outputs": [],
   "source": [
    "# Custom display of tables for easier inspection\n",
    "pd.set_option('display.max_colwidth', None)\n",
    "pd.set_option('display.max_columns', None)\n",
    "pd.set_option('display.width', None)"
   ]
  },
  {
   "attachments": {},
   "cell_type": "markdown",
   "id": "747b2816",
   "metadata": {},
   "source": [
    "This notebook aims to process datasets from MIMIC III for downstream automated ARDS/control adjudication.  \n",
    "Specifically, this notebook follows steps highlighted in bold-face:  \n",
    "- **File I/O, which depends on a specs file.**  \n",
    "- **Standard preprocessing, in which column names are standardized.**  \n",
    "- **Hospital-specific processing, which is temporarily custom-made.**  \n",
    "- Anonymization. It follows two substeps:  \n",
    "    + Anonymizing patient/encounter IDs and datetime columns for all tables.\n",
    "    + Anonymizing text-based tables (chest X-ray reports, attending notes, ECHO reports).  \n",
    "- Segmentation of text-based tables."
   ]
  },
  {
   "attachments": {},
   "cell_type": "markdown",
   "id": "09b7837d",
   "metadata": {},
   "source": [
    "## Reading in raw tables"
   ]
  },
  {
   "cell_type": "code",
   "execution_count": null,
   "id": "f8f37f18",
   "metadata": {},
   "outputs": [],
   "source": [
    "dictionary, pf, peep, bi, notes, echo, bnp, specs = read_in_files()"
   ]
  },
  {
   "attachments": {},
   "cell_type": "markdown",
   "id": "cc5d5e74",
   "metadata": {},
   "source": [
    "## General preprocessing of tables"
   ]
  },
  {
   "cell_type": "code",
   "execution_count": null,
   "id": "e7a22205",
   "metadata": {},
   "outputs": [],
   "source": [
    "dictionary, pf, peep, bi, notes, echo, bnp = preprocess_tables(\n",
    "    dictionary,\n",
    "    pf,\n",
    "    peep,\n",
    "    bi,\n",
    "    notes,\n",
    "    echo,\n",
    "    bnp\n",
    "    )"
   ]
  },
  {
   "attachments": {},
   "cell_type": "markdown",
   "id": "0681604b",
   "metadata": {},
   "source": [
    "## Specific processing and counts of tables for this cohort"
   ]
  },
  {
   "attachments": {},
   "cell_type": "markdown",
   "id": "d98c7e38",
   "metadata": {},
   "source": [
    "#### PF_ratio (hypoxemia assessment)"
   ]
  },
  {
   "cell_type": "code",
   "execution_count": null,
   "id": "73775c34",
   "metadata": {},
   "outputs": [],
   "source": [
    "print(f\"Patients with PF ratios: {pf.patient_id.nunique()}\")\n",
    "print(f\"Encounters with PF ratios: {pf.encounter_id.nunique()}\")\n",
    "print(f\"ICU stays with PF ratios: {pf.icu_id.nunique()}\")\n",
    "print(f\"Uniquely-identified PF ratio entries: {len(pf)}\")"
   ]
  },
  {
   "attachments": {},
   "cell_type": "markdown",
   "id": "69dd944e",
   "metadata": {},
   "source": [
    "#### Chest X-ray reports (bilateral infiltrates assessment)"
   ]
  },
  {
   "attachments": {},
   "cell_type": "markdown",
   "id": "bc80ac4e",
   "metadata": {},
   "source": [
    "Nothing to process"
   ]
  },
  {
   "cell_type": "code",
   "execution_count": null,
   "id": "abf34a39",
   "metadata": {},
   "outputs": [],
   "source": [
    "print(f\"Encounters with CXR reports: {bi.encounter_id.nunique()}\")\n",
    "print(f\"Uniquely-identified CXR reports in table: {len(bi)}\")"
   ]
  },
  {
   "attachments": {},
   "cell_type": "markdown",
   "id": "a0fbe06f",
   "metadata": {},
   "source": [
    "#### Attending physician notes (risk factors and cardiac failure rule out)"
   ]
  },
  {
   "cell_type": "code",
   "execution_count": null,
   "id": "d1aeb2dd",
   "metadata": {},
   "outputs": [],
   "source": [
    "print(f\"Patients with attending notes: {notes.patient_id.nunique()}\")\n",
    "print(f\"Encounters with attending notes: {notes.encounter_id.nunique()}\")\n",
    "print(f\"Number of uniquely-identified attending notes: {len(notes)}\")"
   ]
  },
  {
   "attachments": {},
   "cell_type": "markdown",
   "id": "3248c4e5",
   "metadata": {},
   "source": [
    "### Echocardiography reports (objective cardiac failure rule out)"
   ]
  },
  {
   "cell_type": "code",
   "execution_count": null,
   "id": "52098314",
   "metadata": {},
   "outputs": [],
   "source": [
    "print(f\"Number of unique patients : {echo.patient_id.nunique()}\")\n",
    "print(f\"Encounters with Echocardiography reports: {echo.encounter_id.nunique()}\")\n",
    "print(f\"Uniquely-identified Echocardiography reports: {len(echo)}\")"
   ]
  },
  {
   "attachments": {},
   "cell_type": "markdown",
   "id": "486845a5",
   "metadata": {},
   "source": [
    "#### Beta/Brain Natriuretic Peptide (objective cardiac failure rule out)"
   ]
  },
  {
   "attachments": {},
   "cell_type": "markdown",
   "id": "e555bbfb",
   "metadata": {},
   "source": [
    "Will merge to dictionary table so each patient_id corresponds to an encounter_id. In this case, it won't multiply number of rows."
   ]
  },
  {
   "cell_type": "code",
   "execution_count": null,
   "id": "5405d228",
   "metadata": {},
   "outputs": [],
   "source": [
    "print(f\"Patients with BNP: {bnp.patient_id.nunique()}\")\n",
    "print(f\"Encounters with BNP: {bnp.encounter_id.nunique()}\")\n",
    "print(f\"Uniquely-identified BNPs: {len(bnp)}\")"
   ]
  },
  {
   "attachments": {},
   "cell_type": "markdown",
   "id": "095e203e",
   "metadata": {},
   "source": [
    "## Storing files"
   ]
  },
  {
   "cell_type": "code",
   "execution_count": null,
   "id": "6710b6b9",
   "metadata": {},
   "outputs": [],
   "source": [
    "basedir = Path(\"..\")\n",
    "preprocess_location = basedir / 'Preprocessed_data'\n",
    "cohort = 'MIMIC_III'\n",
    "path = preprocess_location / cohort / 'labeled_subset'"
   ]
  },
  {
   "cell_type": "code",
   "execution_count": null,
   "id": "df2a1ec9",
   "metadata": {},
   "outputs": [],
   "source": [
    "pf.to_csv(path / \"pf_ratio.csv\", index=False, date_format=specs['date_format'])"
   ]
  },
  {
   "cell_type": "code",
   "execution_count": null,
   "id": "fc43ba0d",
   "metadata": {},
   "outputs": [],
   "source": [
    "if peep is not None:\n",
    "    peep.to_csv(path / \"peep.csv\", index=False, date_format=specs['date_format'])"
   ]
  },
  {
   "cell_type": "code",
   "execution_count": null,
   "id": "a5fe2a6c",
   "metadata": {},
   "outputs": [],
   "source": [
    "bi.to_csv(path / \"cxr.csv\", index=False, date_format=specs['date_format'])"
   ]
  },
  {
   "cell_type": "code",
   "execution_count": null,
   "id": "d5a5d048",
   "metadata": {},
   "outputs": [],
   "source": [
    "notes.to_csv(path / \"attending_notes.csv\", index=False, date_format=specs['date_format'])"
   ]
  },
  {
   "cell_type": "code",
   "execution_count": null,
   "id": "169ec35d",
   "metadata": {},
   "outputs": [],
   "source": [
    "echo.to_csv(path / \"echo_reports.csv\", index=False, date_format=specs['date_format'])"
   ]
  },
  {
   "cell_type": "code",
   "execution_count": null,
   "id": "8b1d8125",
   "metadata": {},
   "outputs": [],
   "source": [
    "bnp.to_csv(path / \"bnp.csv\", index=False, date_format=specs['date_format'])"
   ]
  }
 ],
 "metadata": {
  "kernelspec": {
   "display_name": "base",
   "language": "python",
   "name": "python3"
  },
  "language_info": {
   "codemirror_mode": {
    "name": "ipython",
    "version": 3
   },
   "file_extension": ".py",
   "mimetype": "text/x-python",
   "name": "python",
   "nbconvert_exporter": "python",
   "pygments_lexer": "ipython3",
   "version": "3.11.12"
  }
 },
 "nbformat": 4,
 "nbformat_minor": 5
}
